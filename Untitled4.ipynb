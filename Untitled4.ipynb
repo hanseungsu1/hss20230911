{
  "nbformat": 4,
  "nbformat_minor": 0,
  "metadata": {
    "colab": {
      "provenance": [],
      "authorship_tag": "ABX9TyOrK9A7ny49CAIzQC76L98W",
      "include_colab_link": true
    },
    "kernelspec": {
      "name": "python3",
      "display_name": "Python 3"
    },
    "language_info": {
      "name": "python"
    }
  },
  "cells": [
    {
      "cell_type": "markdown",
      "metadata": {
        "id": "view-in-github",
        "colab_type": "text"
      },
      "source": [
        "<a href=\"https://colab.research.google.com/github/hanseungsu1/hss20230911/blob/main/Untitled4.ipynb\" target=\"_parent\"><img src=\"https://colab.research.google.com/assets/colab-badge.svg\" alt=\"Open In Colab\"/></a>"
      ]
    },
    {
      "cell_type": "code",
      "execution_count": 1,
      "metadata": {
        "colab": {
          "base_uri": "https://localhost:8080/"
        },
        "id": "4_CPeP8oQbR0",
        "outputId": "b46d669e-76fb-4bac-80b9-9d906c7ede44"
      },
      "outputs": [
        {
          "output_type": "stream",
          "name": "stdout",
          "text": [
            "b is greater than a\n"
          ]
        }
      ],
      "source": [
        "#if, else문\n",
        "\n",
        "a = 27\n",
        "b = 35\n",
        "\n",
        "if a>b:\n",
        "  print('a is greater than b')\n",
        "\n",
        "else:\n",
        "  print('b is greater than a')"
      ]
    },
    {
      "cell_type": "code",
      "source": [
        "listdata = ['1', '2', '3', '4', '5', '6', '7']\n",
        "if '5' in listdata:\n",
        "\n",
        "  print('5가 listdata안에 있습니다')\n",
        "  print(listdata)"
      ],
      "metadata": {
        "colab": {
          "base_uri": "https://localhost:8080/"
        },
        "id": "Y-xwivAPRQOb",
        "outputId": "f3b1b264-93eb-47fc-a1d5-510b36e4ab2e"
      },
      "execution_count": 15,
      "outputs": [
        {
          "output_type": "stream",
          "name": "stdout",
          "text": [
            "5가 listdata안에 있습니다\n",
            "['1', '2', '3', '4', '5', '6', '7']\n"
          ]
        }
      ]
    },
    {
      "cell_type": "code",
      "source": [
        "listdata = ['포도', '자두', '딸기', '사과']\n",
        "if '수박' in listdata:\n",
        "  print('수박이 포함 되어 있습니다.')\n",
        "  print(listdata)\n",
        "\n",
        "else:\n",
        "  print('수박이 포함 되어있지 않습니다.')\n",
        "  print(listdata)"
      ],
      "metadata": {
        "colab": {
          "base_uri": "https://localhost:8080/"
        },
        "id": "h4nQ_xG0UBHR",
        "outputId": "e2e4d875-d1cc-4ac4-e02f-e37a09c9141e"
      },
      "execution_count": 16,
      "outputs": [
        {
          "output_type": "stream",
          "name": "stdout",
          "text": [
            "수박이 포함 되어있지 않습니다.\n",
            "['포도', '자두', '딸기', '사과']\n"
          ]
        }
      ]
    }
  ]
}