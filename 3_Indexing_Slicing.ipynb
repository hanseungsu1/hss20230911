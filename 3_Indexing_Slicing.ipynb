{
  "nbformat": 4,
  "nbformat_minor": 0,
  "metadata": {
    "colab": {
      "provenance": [],
      "include_colab_link": true
    },
    "kernelspec": {
      "name": "python3",
      "display_name": "Python 3"
    },
    "language_info": {
      "name": "python"
    }
  },
  "cells": [
    {
      "cell_type": "markdown",
      "metadata": {
        "id": "view-in-github",
        "colab_type": "text"
      },
      "source": [
        "<a href=\"https://colab.research.google.com/github/hanseungsu1/hss20230911/blob/main/3_Indexing_Slicing.ipynb\" target=\"_parent\"><img src=\"https://colab.research.google.com/assets/colab-badge.svg\" alt=\"Open In Colab\"/></a>"
      ]
    },
    {
      "cell_type": "code",
      "source": [
        "str_data = 'I love computer'\n",
        "list_data = ['google', 'naver', 'daum']\n",
        "tuple_data = ('google', 'naver', 'daum')\n",
        "\n",
        "print(str_data)\n",
        "print(list_data)\n",
        "print(tuple_data)\n",
        "\n",
        "print(str_data[:6])"
      ],
      "metadata": {
        "id": "EG4MdokoCAeF",
        "outputId": "49e89d61-3f55-4428-946d-9d17452e76a5",
        "colab": {
          "base_uri": "https://localhost:8080/"
        }
      },
      "execution_count": null,
      "outputs": [
        {
          "output_type": "stream",
          "name": "stdout",
          "text": [
            "I love computer\n",
            "['google', 'naver', 'daum']\n",
            "('google', 'naver', 'daum')\n",
            "I love\n"
          ]
        }
      ]
    },
    {
      "cell_type": "code",
      "source": [
        "for i in(1,2,3,4,5):\n",
        "  if i>3:\n",
        "    print('3보다 큽니다.')\n",
        "  else:\n",
        "    print('3보다 작습니다.')"
      ],
      "metadata": {
        "id": "NQxc-1uDEq15",
        "outputId": "4c768adb-4264-477f-ca23-199024b469b2",
        "colab": {
          "base_uri": "https://localhost:8080/"
        }
      },
      "execution_count": 1,
      "outputs": [
        {
          "output_type": "stream",
          "name": "stdout",
          "text": [
            "3보다 작습니다.\n",
            "3보다 작습니다.\n",
            "3보다 작습니다.\n",
            "3보다 큽니다.\n",
            "3보다 큽니다.\n"
          ]
        }
      ]
    }
  ]
}